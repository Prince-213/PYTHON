{
 "cells": [
  {
   "cell_type": "code",
   "execution_count": 6,
   "metadata": {},
   "outputs": [
    {
     "name": "stdout",
     "output_type": "stream",
     "text": [
      "\n",
      "image 1/1 c:\\CODE\\PYTHON\\WIN_20240129_11_06_22_Pro.jpg: 384x640 1 mata Normal, 248.0ms\n",
      "Speed: 16.0ms preprocess, 248.0ms inference, 0.0ms postprocess per image at shape (1, 3, 384, 640)\n",
      "Results saved to \u001b[1mruns\\detect\\predict6\u001b[0m\n"
     ]
    },
    {
     "data": {
      "text/plain": [
       "[ultralytics.engine.results.Results object with attributes:\n",
       " \n",
       " boxes: ultralytics.engine.results.Boxes object\n",
       " keypoints: None\n",
       " masks: None\n",
       " names: {0: 'mata Katarak', 1: 'mata Normal'}\n",
       " obb: None\n",
       " orig_img: array([[[28, 37, 46],\n",
       "         [28, 38, 45],\n",
       "         [29, 37, 44],\n",
       "         ...,\n",
       "         [23, 27, 28],\n",
       "         [26, 28, 28],\n",
       "         [27, 29, 29]],\n",
       " \n",
       "        [[27, 36, 45],\n",
       "         [27, 37, 44],\n",
       "         [29, 38, 42],\n",
       "         ...,\n",
       "         [23, 27, 28],\n",
       "         [26, 28, 28],\n",
       "         [26, 28, 28]],\n",
       " \n",
       "        [[29, 37, 44],\n",
       "         [29, 37, 44],\n",
       "         [30, 36, 41],\n",
       "         ...,\n",
       "         [23, 27, 28],\n",
       "         [23, 28, 27],\n",
       "         [23, 28, 27]],\n",
       " \n",
       "        ...,\n",
       " \n",
       "        [[20, 20, 20],\n",
       "         [19, 19, 19],\n",
       "         [19, 19, 19],\n",
       "         ...,\n",
       "         [15, 15, 15],\n",
       "         [16, 16, 16],\n",
       "         [17, 17, 17]],\n",
       " \n",
       "        [[19, 18, 20],\n",
       "         [18, 17, 19],\n",
       "         [18, 17, 19],\n",
       "         ...,\n",
       "         [16, 16, 16],\n",
       "         [16, 16, 16],\n",
       "         [17, 17, 17]],\n",
       " \n",
       "        [[18, 17, 19],\n",
       "         [18, 17, 19],\n",
       "         [17, 16, 18],\n",
       "         ...,\n",
       "         [14, 14, 14],\n",
       "         [14, 14, 14],\n",
       "         [15, 15, 15]]], dtype=uint8)\n",
       " orig_shape: (720, 1280)\n",
       " path: 'c:\\\\CODE\\\\PYTHON\\\\WIN_20240129_11_06_22_Pro.jpg'\n",
       " probs: None\n",
       " save_dir: 'runs\\\\detect\\\\predict6'\n",
       " speed: {'preprocess': 15.99884033203125, 'inference': 248.0001449584961, 'postprocess': 0.0}]"
      ]
     },
     "execution_count": 6,
     "metadata": {},
     "output_type": "execute_result"
    }
   ],
   "source": [
    "from ultralytics import YOLO\n",
    "\n",
    "model = YOLO('./deketsi/best.pt')\n",
    "\n",
    "model.predict('./WIN_20240129_11_06_22_Pro.jpg', save=True, imgsz=640, conf=0.2)"
   ]
  }
 ],
 "metadata": {
  "kernelspec": {
   "display_name": ".venv",
   "language": "python",
   "name": "python3"
  },
  "language_info": {
   "codemirror_mode": {
    "name": "ipython",
    "version": 3
   },
   "file_extension": ".py",
   "mimetype": "text/x-python",
   "name": "python",
   "nbconvert_exporter": "python",
   "pygments_lexer": "ipython3",
   "version": "3.9.0"
  }
 },
 "nbformat": 4,
 "nbformat_minor": 2
}
