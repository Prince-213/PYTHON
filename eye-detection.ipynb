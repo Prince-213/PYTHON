{
 "cells": [
  {
   "cell_type": "code",
   "execution_count": 1,
   "metadata": {},
   "outputs": [
    {
     "name": "stdout",
     "output_type": "stream",
     "text": [
      "\n",
      "0: 480x640 1 person, 2269.1ms\n",
      "Speed: 42.0ms preprocess, 2269.1ms inference, 36.0ms postprocess per image at shape (1, 3, 480, 640)\n",
      "\n",
      "0: 480x640 1 person, 1477.2ms\n",
      "Speed: 17.0ms preprocess, 1477.2ms inference, 21.0ms postprocess per image at shape (1, 3, 480, 640)\n",
      "\n",
      "0: 480x640 1 person, 838.6ms\n",
      "Speed: 5.0ms preprocess, 838.6ms inference, 17.0ms postprocess per image at shape (1, 3, 480, 640)\n",
      "\n",
      "0: 480x640 1 person, 753.0ms\n",
      "Speed: 5.0ms preprocess, 753.0ms inference, 23.0ms postprocess per image at shape (1, 3, 480, 640)\n",
      "\n",
      "0: 480x640 1 person, 774.0ms\n",
      "Speed: 5.0ms preprocess, 774.0ms inference, 18.0ms postprocess per image at shape (1, 3, 480, 640)\n",
      "\n",
      "0: 480x640 1 person, 706.0ms\n",
      "Speed: 7.0ms preprocess, 706.0ms inference, 17.0ms postprocess per image at shape (1, 3, 480, 640)\n"
     ]
    },
    {
     "ename": "",
     "evalue": "",
     "output_type": "error",
     "traceback": [
      "\u001b[1;31mThe Kernel crashed while executing code in the current cell or a previous cell. \n",
      "\u001b[1;31mPlease review the code in the cell(s) to identify a possible cause of the failure. \n",
      "\u001b[1;31mClick <a href='https://aka.ms/vscodeJupyterKernelCrash'>here</a> for more info. \n",
      "\u001b[1;31mView Jupyter <a href='command:jupyter.viewOutput'>log</a> for further details."
     ]
    }
   ],
   "source": [
    "import threading\n",
    "import cv2\n",
    "from ultralytics import YOLO\n",
    "\n",
    "\n",
    "def run_tracker_in_thread(filename, model, file_index):\n",
    "    \"\"\"\n",
    "    Runs a video file or webcam stream concurrently with the YOLOv8 model using threading.\n",
    "\n",
    "    This function captures video frames from a given file or camera source and utilizes the YOLOv8 model for object\n",
    "    tracking. The function runs in its own thread for concurrent processing.\n",
    "\n",
    "    Args:\n",
    "        filename (str): The path to the video file or the identifier for the webcam/external camera source.\n",
    "        model (obj): The YOLOv8 model object.\n",
    "        file_index (int): An index to uniquely identify the file being processed, used for display purposes.\n",
    "\n",
    "    Note:\n",
    "        Press 'q' to quit the video display window.\n",
    "    \"\"\"\n",
    "    video = cv2.VideoCapture(filename)  # Read the video file\n",
    "    \n",
    "    \n",
    "\n",
    "    while True:\n",
    "        ret, frame = video.read()  # Read the video frames\n",
    "\n",
    "        # Exit the loop if no more frames in either video\n",
    "        if not ret:\n",
    "            break\n",
    "\n",
    "        # Track objects in frames if available\n",
    "        results = model.track(frame, persist=True)\n",
    "        res_plotted = results[0].plot()\n",
    "        cv2.imshow(f\"Tracking_Stream_{file_index}\", res_plotted)\n",
    "\n",
    "        key = cv2.waitKey(1)\n",
    "        if key == ord('q'):\n",
    "            break\n",
    "\n",
    "    # Release video sources\n",
    "    video.release()\n",
    "\n",
    "\n",
    "# Load the models\n",
    "#model1 = YOLO('./deketsi/best.pt')\n",
    "model2 = YOLO('yolov8n-seg.pt')\n",
    "\n",
    "# Define the video files for the trackers\n",
    "#video_file1 = 0 # Path to video file, 0 for webcam\n",
    "video_file2 = 0  # Path to video file, 0 for webcam, 1 for external camera\n",
    "\n",
    "# Create the tracker threads\n",
    "#tracker_thread1 = threading.Thread(target=run_tracker_in_thread, args=(video_file1, model1, 1), daemon=True)\n",
    "tracker_thread2 = threading.Thread(target=run_tracker_in_thread, args=(video_file2, model2, 2), daemon=True)\n",
    "\n",
    "# Start the tracker threads\n",
    "\n",
    "#tracker_thread1.start()\n",
    "tracker_thread2.start()\n",
    "\n",
    "# Wait for the tracker threads to finish\n",
    "#tracker_thread1.join()\n",
    "tracker_thread2.join()\n",
    "\n",
    "# Clean up and close windows\n",
    "cv2.destroyAllWindows()"
   ]
  },
  {
   "cell_type": "code",
   "execution_count": null,
   "metadata": {},
   "outputs": [],
   "source": [
    "\n"
   ]
  }
 ],
 "metadata": {
  "kernelspec": {
   "display_name": ".venv",
   "language": "python",
   "name": "python3"
  },
  "language_info": {
   "codemirror_mode": {
    "name": "ipython",
    "version": 3
   },
   "file_extension": ".py",
   "mimetype": "text/x-python",
   "name": "python",
   "nbconvert_exporter": "python",
   "pygments_lexer": "ipython3",
   "version": "3.9.0"
  }
 },
 "nbformat": 4,
 "nbformat_minor": 2
}
